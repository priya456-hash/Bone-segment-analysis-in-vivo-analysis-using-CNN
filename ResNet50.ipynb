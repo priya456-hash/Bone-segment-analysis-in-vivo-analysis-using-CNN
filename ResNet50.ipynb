{
  "nbformat": 4,
  "nbformat_minor": 0,
  "metadata": {
    "colab": {
      "name": "ResNet50.ipynb",
      "provenance": [],
      "collapsed_sections": [],
      "authorship_tag": "ABX9TyO417nmcpaTTiCp/lr4CBel",
      "include_colab_link": true
    },
    "kernelspec": {
      "name": "python3",
      "display_name": "Python 3"
    },
    "language_info": {
      "name": "python"
    },
    "accelerator": "GPU"
  },
  "cells": [
    {
      "cell_type": "markdown",
      "metadata": {
        "id": "view-in-github",
        "colab_type": "text"
      },
      "source": [
        "<a href=\"https://colab.research.google.com/github/priya456-hash/Thesis/blob/main/ResNet50.ipynb\" target=\"_parent\"><img src=\"https://colab.research.google.com/assets/colab-badge.svg\" alt=\"Open In Colab\"/></a>"
      ]
    },
    {
      "cell_type": "code",
      "metadata": {
        "id": "11II3RRaQ_Q1"
      },
      "source": [
        "# importing required libraries\n",
        "\n",
        "import os\n",
        "import re\n",
        "import glob\n",
        "import pathlib\n",
        "import time\n",
        "import math\n",
        "import numpy as np\n",
        "import pandas as pd\n",
        "import matplotlib.pyplot as plt\n",
        "%matplotlib inline\n",
        "\n",
        "import zipfile \n",
        "import heapq\n",
        "import matplotlib.image as mpimg\n",
        "import tensorflow as tf \n",
        "from scipy.stats import pearsonr\n",
        "from tensorflow.keras import layers \n",
        "from tensorflow.keras import models \n",
        "from tensorflow.keras import Model \n",
        "from tensorflow.keras.preprocessing.image import ImageDataGenerator \n",
        "\n",
        "import cv2\n",
        "\n",
        "import PIL\n",
        "from PIL import Image\n",
        "\n",
        "from sklearn.model_selection import train_test_split\n",
        "from sklearn.utils import class_weight\n",
        "\n",
        "from collections import Counter\n",
        "\n",
        "from warnings import filterwarnings\n",
        "filterwarnings('ignore')\n",
        "\n",
        "SEED=123\n",
        "np.random.seed(SEED)\n",
        "\n"
      ],
      "execution_count": null,
      "outputs": []
    },
    {
      "cell_type": "code",
      "metadata": {
        "id": "pm5AbipVRzHa"
      },
      "source": [
        "# Loading tensorflow \n",
        "\n",
        "import tensorflow as tf\n",
        "from tensorflow import keras\n",
        "from tensorflow.keras import layers\n",
        "from tensorflow.keras.models import Model,Sequential\n",
        "from tensorflow.keras.optimizers import Adam, SGD, RMSprop\n",
        "from tensorflow.keras.layers import Dropout, BatchNormalization\n",
        "from tensorflow.keras.layers import (\n",
        "    Input, Dense, Conv2D, Flatten, Activation, \n",
        "    MaxPooling2D, AveragePooling2D, ZeroPadding2D, GlobalAveragePooling2D, GlobalMaxPooling2D, add\n",
        ")\n",
        "\n",
        "from tensorflow.python.keras.callbacks import EarlyStopping, ModelCheckpoint\n",
        "from tensorflow.keras.preprocessing import image\n",
        "from tensorflow.keras.preprocessing.image import ImageDataGenerator\n",
        "\n",
        "from tensorflow.keras.utils import plot_model\n",
        "\n",
        "from tensorflow.keras.applications.vgg16 import VGG16\n",
        "from tensorflow.keras.applications.vgg19 import VGG19\n",
        "from tensorflow.keras.applications.vgg19 import preprocess_input\n",
        "from tensorflow.keras.applications.resnet50 import ResNet50\n",
        "from tensorflow.keras.applications.resnet50 import preprocess_input\n",
        "from tensorflow.keras.applications.inception_v3 import InceptionV3\n",
        "#from tensorflow.keras.applications.inception_v3 import preprocess_input"
      ],
      "execution_count": null,
      "outputs": []
    },
    {
      "cell_type": "code",
      "metadata": {
        "id": "ukOEvrfgU89d"
      },
      "source": [
        "CFG = dict(\n",
        "        batch_size        =  16,     # 8; 16; 32; 64; bigger batch size leads to memory allocation issues. \n",
        "        epochs            =  100,   # 5; 10; 20;\n",
        "        verbose           =   0,    # 0; 1\n",
        "        workers           =   2,    # 1; 2; 3\n",
        "\n",
        "        optimizer         = 'adam', # 'SGD', 'RMSprop'\n",
        "\n",
        "        RANDOM_STATE      =  123,   \n",
        "    \n",
        "        # Path to save a model\n",
        "        path_model        = '../working/',\n",
        "\n",
        "        # Images sizes\n",
        "        img_size          = 224, \n",
        "        img_height        = 224, \n",
        "        img_width         = 224, \n",
        "\n",
        "        # Images augs\n",
        "        ROTATION          = 180.0,\n",
        "        ZOOM              =  10.0,\n",
        "        ZOOM_RANGE        =  [0.9,1.1],\n",
        "        HZOOM             =  10.0,\n",
        "        WZOOM             =  10.0,\n",
        "        HSHIFT            =  10.0,\n",
        "        WSHIFT            =  10.0,\n",
        "        SHEAR             =   5.0,\n",
        "        HFLIP             = True,\n",
        "        VFLIP             = True,\n",
        "\n",
        "        # Postprocessing\n",
        "        label_smooth_fac  =  0.00,  # 0.01; 0.05; 0.1; 0.2;    \n",
        ")\n",
        "\n"
      ],
      "execution_count": null,
      "outputs": []
    },
    {
      "cell_type": "code",
      "metadata": {
        "id": "xhRK96IVeNZe"
      },
      "source": [
        "# Unzip all files to same directory of zip file\n",
        "zip_file = '/content/Bone_parts.zip'\n",
        "zip_ref = zipfile.ZipFile(zip_file, 'r')\n",
        "zip_ref.extractall('/content')\n",
        "zip_ref.close()\n",
        "\n",
        "# Create a test, train and validation directories\n",
        "dir = '/content/Bone_parts'\n",
        "train_dir = os.path.join(dir, 'train')\n",
        "validation_dir = os.path.join(dir, 'validation')\n",
        "test_dir = os.path.join(dir, 'test')\n",
        "\n",
        "# Biomaterial Directories\n",
        "train_Biomaterial_dir = os.path.join(train_dir, 'biomaterial')\n",
        "test_Biomaterial_dir = os.path.join(test_dir, 'biomaterial')\n",
        "\n",
        "# bone_marrow Directories\n",
        "train_bone_marrow_dir = os.path.join(train_dir, 'bone_marrow')\n",
        "test_bone_marrow_dir = os.path.join(test_dir, 'bone_marrow')\n",
        "\n",
        "#bone_with_osteocytes directories\n",
        "train_bone_with_osteocytes_dir = os.path.join(train_dir, 'bone_with_osteocytes')\n",
        "test_bone_with_osteocytes_dir = os.path.join(test_dir, 'bone_with_osteocytes')\n",
        "\n",
        "#bone_without_osteocytes\n",
        "train_bone_without_osteocytes_dir = os.path.join(train_dir, 'bone_without_osteocytes')\n",
        "test_bone_without_osteocytes_dir = os.path.join(test_dir, 'bone_without_osteocytes')\n",
        "\n",
        "\n",
        "# tissue_fibrous\n",
        "train_tissue_fibrous_dir = os.path.join(train_dir, 'tissue_fibrous')\n",
        "test_tissue_fibrous_dir = os.path.join(test_dir, 'tissue_fibrous')\n",
        "\n",
        "print(train_tissue_fibrous_dir)\n"
      ],
      "execution_count": null,
      "outputs": []
    },
    {
      "cell_type": "code",
      "metadata": {
        "id": "9bYvMTjKqHGu"
      },
      "source": [
        "# Plot a sample image\n",
        "\n",
        "#create list for all images\n",
        "images = []\n",
        "names = []\n",
        "\n",
        "#Get first image of tissue_fibrous\n",
        "train_tissue_fibrous_filenames = os.listdir(train_tissue_fibrous_dir)\n",
        "\n",
        "#Plot the first image\n",
        "images.append(mpimg.imread(train_tissue_fibrous_dir + \"/\" + train_tissue_fibrous_filenames[0]))\n",
        "names.append(\"tissue_fibrous\")\n",
        "\n",
        "#Get first image of biomaterial\n",
        "train_Biomaterial_filenames = os.listdir(train_Biomaterial_dir)\n",
        "\n",
        "#Plot the first image\n",
        "images.append(mpimg.imread(train_Biomaterial_dir + \"/\" + train_Biomaterial_filenames[0]))\n",
        "names.append(\"biomaterial\")\n",
        "\n",
        "#Get first image of bone marrow\n",
        "train_bone_marrow_filenames = os.listdir(train_bone_marrow_dir)\n",
        "\n",
        "#Plot the first image\n",
        "images.append(mpimg.imread(train_bone_marrow_dir + \"/\" + train_bone_marrow_filenames[0]))\n",
        "names.append(\"bone_marrow\")\n",
        "\n",
        "#Get first image of bone with osteocytes \n",
        "train_bone_with_osteocytes_filenames = os.listdir(train_bone_with_osteocytes_dir)\n",
        "\n",
        "#Plot the first image\n",
        "images.append(mpimg.imread(train_bone_with_osteocytes_dir + \"/\" + train_bone_with_osteocytes_filenames[0]))\n",
        "names.append(\"bone_with_osteocytes\")\n",
        "\n",
        "#Get first image of tissue_fibrous\n",
        "train_bone_without_osteocytes_filenames = os.listdir(train_bone_without_osteocytes_dir)\n",
        "names.append(\"bone_without_osteocytes\")\n",
        "\n",
        "#Plot the first image\n",
        "images.append(mpimg.imread(train_bone_without_osteocytes_dir + \"/\" + train_bone_without_osteocytes_filenames[0]))\n",
        "\n",
        "nrows = 1\n",
        "ncols = 5\n",
        "fig = plt.gcf()\n",
        "fig.set_size_inches(ncols*4, nrows*4)\n",
        "for i in range(5):\n",
        "  # Set up subplot; subplot indices start at 1\n",
        "  sp = plt.subplot(nrows, ncols, i + 1)\n",
        "  sp.axis('Off') # Don't show axes (or gridlines)\n",
        "  plt.imshow(images[i])\n",
        "  plt.title(names[i])\n",
        "plt.show()"
      ],
      "execution_count": null,
      "outputs": []
    },
    {
      "cell_type": "code",
      "metadata": {
        "id": "FB_vPDLSWVGN"
      },
      "source": [
        "# https://keras.io/api/preprocessing/image/\n",
        "\n",
        "# Data Augmentation \n",
        "\n",
        "train_datagen = ImageDataGenerator(rescale=1./255, validation_split=0.4,\n",
        "    rotation_range            = CFG['ROTATION'],\n",
        "    zoom_range                = CFG['ZOOM_RANGE'],\n",
        "    horizontal_flip           = CFG['HFLIP'],\n",
        "    vertical_flip             = CFG['VFLIP'],\n",
        "    height_shift_range        = CFG['HSHIFT'],\n",
        "    width_shift_range         = CFG['WSHIFT'],\n",
        "    shear_range               = CFG['SHEAR'],\n",
        "    channel_shift_range       = 0.0,\n",
        "    brightness_range          = None,\n",
        "    fill_mode                 = 'nearest',\n",
        "                          \n",
        "    )\n",
        "\n",
        "valid_generator = ImageDataGenerator(rescale=1./255, validation_split=0.4)              # no aug for valid\n",
        "test_generator  = ImageDataGenerator(rescale=1./255)                                    # no aug for test\n",
        "\n",
        "\n",
        "# Train data\n",
        "train_generator = train_datagen.flow_from_directory(train_dir,\n",
        "                                                    subset='training',                  # to read train/valid from same directory \n",
        "                                                    target_size=(CFG['img_size'], CFG['img_size']),\n",
        "                                                    batch_size = CFG['batch_size'],\n",
        "                                                    class_mode='categorical'\n",
        "                                                    )\n",
        "\n",
        "# Validation data\n",
        "valid_generator = valid_generator.flow_from_directory(train_dir,\n",
        "                                                     subset='validation',               # to read train/valid from same directory \n",
        "                                                     target_size=(CFG['img_size'], CFG['img_size']),\n",
        "                                                     batch_size = CFG['batch_size'],\n",
        "                                                     class_mode='categorical'\n",
        "                                               \n",
        "                                                     ) \n",
        "# Test data\n",
        "test_generator  = test_generator.flow_from_directory(test_dir,\n",
        "                                                    target_size=(CFG['img_size'], CFG['img_size']),\n",
        "                                                     batch_size = 1,                    # using 1 to easily manage mapping between test_gen & pred\n",
        "                                                     class_mode='categorical',shuffle=False    \n",
        ")"
      ],
      "execution_count": null,
      "outputs": []
    },
    {
      "cell_type": "code",
      "metadata": {
        "id": "shveA9IfW9IW"
      },
      "source": [
        "# Class weights for assigning different weights to the classes. \n",
        "# calculate the class weight\n",
        "class_weights = class_weight.compute_class_weight('balanced',\n",
        "                                                  np.unique(train_generator.classes), \n",
        "                                                  train_generator.classes) \n",
        "\n",
        "unique_class_weights = np.unique(train_generator.classes)\n",
        "class_weights_dict   = { unique_class_weights[i]: w for i,w in enumerate(class_weights) }\n",
        "\n",
        "print('\\nCLASS WEIGHTS: {}\\n'.format(class_weights))\n",
        "print(np.unique(train_generator.classes))\n",
        "print(train_generator.classes)\n",
        "print(unique_class_weights)\n",
        "print(Counter(train_generator.classes).keys())   # equals to list(set(x))\n",
        "print(Counter(train_generator.classes).values()) # counts the elements' frequency"
      ],
      "execution_count": null,
      "outputs": []
    },
    {
      "cell_type": "code",
      "metadata": {
        "id": "-EaT1IeNXFZF"
      },
      "source": [
        "model_ResNet50 = tf.keras.Sequential([\n",
        "     tf.keras.applications.ResNet50(\n",
        "        input_shape=(224, 224, 3),\n",
        "        weights='imagenet',\n",
        "        include_top=False\n",
        "    ),\n",
        "    \n",
        "    GlobalAveragePooling2D(),\n",
        "    \n",
        "    #Dense(1024, activation = 'relu'), \n",
        "    #Dropout(0.5), \n",
        "    #BatchNormalization(),\n",
        "    \n",
        "    #Dense(256, activation='relu'), \n",
        "    #Dropout(0.3), \n",
        "    #BatchNormalization(),\n",
        "    \n",
        "    #Dense(64, activation='relu'), \n",
        "    #Dropout(0.2), \n",
        "    #BatchNormalization(),\n",
        "    \n",
        "    Dense(5, activation='softmax') \n",
        "    \n",
        "])\n",
        "    \n",
        "model_ResNet50.compile(\n",
        "    optimizer = CFG['optimizer'],\n",
        "    loss = tf.keras.losses.BinaryCrossentropy(label_smoothing = CFG['label_smooth_fac']),\n",
        "    #loss = 'binary_crossentropy',\n",
        "    metrics=['accuracy']\n",
        ")"
      ],
      "execution_count": 33,
      "outputs": []
    },
    {
      "cell_type": "code",
      "metadata": {
        "id": "cdzoEs1dY0--",
        "colab": {
          "base_uri": "https://localhost:8080/"
        },
        "outputId": "bc2f3f99-408e-4f33-f536-ce231d795556"
      },
      "source": [
        "# We reduce significantly number of trainable parameters by freezing certain layers, excluding from training, i.e. their weights will never be updated\n",
        "\n",
        "# freeze the first 1 layer\n",
        "\n",
        "model_ResNet50.layers[0].trainable = False\n",
        "#for layer in model_VGG16.layers[:1]:\n",
        "#    layer.trainable = False\n",
        "model_ResNet50.summary()"
      ],
      "execution_count": 34,
      "outputs": [
        {
          "output_type": "stream",
          "text": [
            "Model: \"sequential_1\"\n",
            "_________________________________________________________________\n",
            "Layer (type)                 Output Shape              Param #   \n",
            "=================================================================\n",
            "resnet50 (Functional)        (None, 7, 7, 2048)        23587712  \n",
            "_________________________________________________________________\n",
            "global_average_pooling2d_1 ( (None, 2048)              0         \n",
            "_________________________________________________________________\n",
            "dense_1 (Dense)              (None, 5)                 10245     \n",
            "=================================================================\n",
            "Total params: 23,597,957\n",
            "Trainable params: 10,245\n",
            "Non-trainable params: 23,587,712\n",
            "_________________________________________________________________\n"
          ],
          "name": "stdout"
        }
      ]
    },
    {
      "cell_type": "code",
      "metadata": {
        "colab": {
          "base_uri": "https://localhost:8080/"
        },
        "id": "tD-JOpUFpCRp",
        "outputId": "996d700c-46a4-44b4-fcc4-125189fe9271"
      },
      "source": [
        "model_ResNet50.save('custom_model1.h5py')"
      ],
      "execution_count": 35,
      "outputs": [
        {
          "output_type": "stream",
          "text": [
            "INFO:tensorflow:Assets written to: custom_model1.h5py/assets\n"
          ],
          "name": "stdout"
        }
      ]
    },
    {
      "cell_type": "code",
      "metadata": {
        "id": "51vO9yKnY73N",
        "colab": {
          "base_uri": "https://localhost:8080/"
        },
        "outputId": "33295909-ec4b-47be-c218-0b470feff3af"
      },
      "source": [
        "#REFERENCES: tf.function-decorated function tried to create variables on non-first call'. \n",
        "tf.config.run_functions_eagerly(True) # otherwise error, useful for debugging.\n",
        "\n",
        "# https://www.tensorflow.org/api_docs/python/tf/keras/callbacks/ModelCheckpoint\n",
        "#Callback to save the Keras model or model weights at some frequency\n",
        "cb_early_stopper = EarlyStopping(monitor = 'val_loss', patience = 10)\n",
        "cb_checkpointer  = ModelCheckpoint(#filepath=path_model,\n",
        "                                   #filepath=CFG['path_model']+'ResNet50.hdf5'\n",
        "                                   filepath = CFG['path_model']+'ResNet50-{epoch:02d}-{val_loss:.2f}.hdf5',\n",
        "                                   monitor  = 'val_loss', \n",
        "                                   verbose  = CFG['verbose'], \n",
        "                                   save_best_only=True, \n",
        "                                   mode='min'\n",
        "                                  )\n",
        "\n",
        "callbacks_list = [cb_checkpointer, cb_early_stopper]\n",
        "\n",
        "history = model_ResNet50.fit(train_generator, \n",
        "                             epochs=CFG['epochs'], \n",
        "                             workers=CFG['workers'],\n",
        "                             steps_per_epoch = train_generator.n // 2, \n",
        "                             validation_data=valid_generator, \n",
        "                             shuffle=False,\n",
        "                             validation_steps=valid_generator.n // 2, \n",
        "                             callbacks = callbacks_list,\n",
        "                             class_weight = class_weights_dict\n",
        "                            )"
      ],
      "execution_count": 36,
      "outputs": [
        {
          "output_type": "stream",
          "text": [
            "Epoch 1/100\n",
            "75/75 [==============================] - 44s 568ms/step - loss: 0.1849 - accuracy: 0.8779 - val_loss: 26.1390 - val_accuracy: 0.1875\n",
            "Epoch 2/100\n",
            "75/75 [==============================] - 43s 567ms/step - loss: 0.0788 - accuracy: 0.9531 - val_loss: 4.5497 - val_accuracy: 0.1667\n",
            "Epoch 3/100\n",
            "75/75 [==============================] - 43s 566ms/step - loss: 0.1060 - accuracy: 0.9292 - val_loss: 2.6624 - val_accuracy: 0.2188\n",
            "Epoch 4/100\n",
            "75/75 [==============================] - 43s 564ms/step - loss: 0.0345 - accuracy: 0.9761 - val_loss: 1.1204 - val_accuracy: 0.2188\n",
            "Epoch 5/100\n",
            "75/75 [==============================] - 43s 568ms/step - loss: 0.0420 - accuracy: 0.9699 - val_loss: 0.8569 - val_accuracy: 0.2188\n",
            "Epoch 6/100\n",
            "75/75 [==============================] - 43s 565ms/step - loss: 0.1105 - accuracy: 0.8973 - val_loss: 2.5003 - val_accuracy: 0.2188\n",
            "Epoch 7/100\n",
            "75/75 [==============================] - 43s 570ms/step - loss: 0.0377 - accuracy: 0.9699 - val_loss: 1.1485 - val_accuracy: 0.2188\n",
            "Epoch 8/100\n",
            "75/75 [==============================] - 43s 569ms/step - loss: 0.0368 - accuracy: 0.9708 - val_loss: 1.1493 - val_accuracy: 0.2396\n",
            "Epoch 9/100\n",
            "75/75 [==============================] - 43s 563ms/step - loss: 0.0158 - accuracy: 0.9894 - val_loss: 1.7285 - val_accuracy: 0.2188\n",
            "Epoch 10/100\n",
            "75/75 [==============================] - 43s 569ms/step - loss: 0.0221 - accuracy: 0.9912 - val_loss: 1.4363 - val_accuracy: 0.2188\n",
            "Epoch 11/100\n",
            "75/75 [==============================] - 43s 569ms/step - loss: 0.0215 - accuracy: 0.9841 - val_loss: 1.0772 - val_accuracy: 0.2500\n",
            "Epoch 12/100\n",
            "75/75 [==============================] - 43s 569ms/step - loss: 0.0154 - accuracy: 0.9885 - val_loss: 0.8847 - val_accuracy: 0.3750\n",
            "Epoch 13/100\n",
            "75/75 [==============================] - 43s 567ms/step - loss: 0.0195 - accuracy: 0.9885 - val_loss: 0.9827 - val_accuracy: 0.5104\n",
            "Epoch 14/100\n",
            "75/75 [==============================] - 43s 568ms/step - loss: 0.0877 - accuracy: 0.9283 - val_loss: 5.4582 - val_accuracy: 0.1667\n",
            "Epoch 15/100\n",
            "75/75 [==============================] - 43s 567ms/step - loss: 0.0260 - accuracy: 0.9814 - val_loss: 0.0662 - val_accuracy: 0.9583\n",
            "Epoch 16/100\n",
            "75/75 [==============================] - 43s 569ms/step - loss: 0.0145 - accuracy: 0.9938 - val_loss: 0.0561 - val_accuracy: 0.9583\n",
            "Epoch 17/100\n",
            "75/75 [==============================] - 43s 571ms/step - loss: 0.0117 - accuracy: 0.9894 - val_loss: 0.0994 - val_accuracy: 0.9167\n",
            "Epoch 18/100\n",
            "75/75 [==============================] - 43s 565ms/step - loss: 0.0058 - accuracy: 0.9973 - val_loss: 0.0266 - val_accuracy: 0.9792\n",
            "Epoch 19/100\n",
            "75/75 [==============================] - 43s 569ms/step - loss: 0.0198 - accuracy: 0.9876 - val_loss: 0.1833 - val_accuracy: 0.8646\n",
            "Epoch 20/100\n",
            "75/75 [==============================] - 43s 570ms/step - loss: 0.0070 - accuracy: 0.9973 - val_loss: 0.0974 - val_accuracy: 0.9167\n",
            "Epoch 21/100\n",
            "75/75 [==============================] - 43s 567ms/step - loss: 0.0085 - accuracy: 0.9929 - val_loss: 0.4441 - val_accuracy: 0.6875\n",
            "Epoch 22/100\n",
            "75/75 [==============================] - 43s 571ms/step - loss: 0.0115 - accuracy: 0.9929 - val_loss: 0.8085 - val_accuracy: 0.5625\n",
            "Epoch 23/100\n",
            "75/75 [==============================] - 43s 570ms/step - loss: 0.0069 - accuracy: 0.9947 - val_loss: 0.1627 - val_accuracy: 0.8958\n",
            "Epoch 24/100\n",
            "75/75 [==============================] - 43s 569ms/step - loss: 0.0078 - accuracy: 0.9965 - val_loss: 0.1256 - val_accuracy: 0.9167\n",
            "Epoch 25/100\n",
            "75/75 [==============================] - 43s 569ms/step - loss: 0.0102 - accuracy: 0.9912 - val_loss: 1.1711 - val_accuracy: 0.7188\n",
            "Epoch 26/100\n",
            "75/75 [==============================] - 43s 575ms/step - loss: 0.0122 - accuracy: 0.9912 - val_loss: 0.9816 - val_accuracy: 0.6458\n",
            "Epoch 27/100\n",
            "75/75 [==============================] - 44s 576ms/step - loss: 0.0338 - accuracy: 0.9752 - val_loss: 0.9087 - val_accuracy: 0.4062\n",
            "Epoch 28/100\n",
            "75/75 [==============================] - 43s 571ms/step - loss: 0.0205 - accuracy: 0.9876 - val_loss: 0.2602 - val_accuracy: 0.8542\n"
          ],
          "name": "stdout"
        }
      ]
    },
    {
      "cell_type": "code",
      "metadata": {
        "id": "fpy_C18CfSPq",
        "colab": {
          "base_uri": "https://localhost:8080/",
          "height": 330
        },
        "outputId": "5c2c5c1b-8eba-4405-d762-17655d825c2b"
      },
      "source": [
        "acc = history.history['accuracy']\n",
        "val_acc = history.history['val_accuracy']\n",
        "\n",
        "loss = history.history['loss']\n",
        "val_loss = history.history['val_loss']\n",
        "\n",
        "metrics = history.history['accuracy']\n",
        "epochs_range = range(1, len(metrics) + 1) \n",
        "\n",
        "plt.figure(figsize=(23, 8))\n",
        "plt.subplot(1, 2, 1)\n",
        "plt.plot(epochs_range, acc, label='Training Accuracy')\n",
        "plt.plot(epochs_range, val_acc, label='Validation Accuracy')\n",
        "plt.legend(loc='lower right')\n",
        "plt.title('Training and Validation Accuracy')\n",
        "\n",
        "plt.subplot(1, 2, 2)\n",
        "plt.plot(epochs_range, loss, label='Training Loss')\n",
        "plt.plot(epochs_range, val_loss, label='Validation Loss')\n",
        "plt.legend(loc='upper right')\n",
        "plt.title('Training and Validation Loss')\n",
        "plt.show()"
      ],
      "execution_count": 50,
      "outputs": [
        {
          "output_type": "display_data",
          "data": {
            "image/png": "[encoded data removed]",
            "text/plain": [
              "<Figure size 1656x576 with 2 Axes>"
            ]
          },
          "metadata": {
            "needs_background": "light"
          }
        }
      ]
    },
    {
      "cell_type": "code",
      "metadata": {
        "id": "kgiBu7nffeRo",
        "colab": {
          "base_uri": "https://localhost:8080/"
        },
        "outputId": "1d6b1fef-adea-435c-eb3b-4185e0cd1298"
      },
      "source": [
        "print(\"Evaluate on test data\")\n",
        "results = model_ResNet50.evaluate(test_generator)\n",
        "print(\"test loss, test acc:\", results)"
      ],
      "execution_count": 51,
      "outputs": [
        {
          "output_type": "stream",
          "text": [
            "Evaluate on test data\n",
            "209/209 [==============================] - 17s 82ms/step - loss: 0.0623 - accuracy: 0.9378\n",
            "test loss, test acc: [0.06234278529882431, 0.9377990365028381]\n"
          ],
          "name": "stdout"
        }
      ]
    },
    {
      "cell_type": "code",
      "metadata": {
        "colab": {
          "base_uri": "https://localhost:8080/"
        },
        "id": "kek6UK4K68Bz",
        "outputId": "e5a9375b-90a6-4c10-c9c8-94ce9b007321"
      },
      "source": [
        "print(\"Evaluate on test data\")\n",
        "results = model_ResNet50.evaluate(test_generator)\n",
        "print(\"test loss, test acc:\", results)\n",
        "\n"
      ],
      "execution_count": 52,
      "outputs": [
        {
          "output_type": "stream",
          "text": [
            "Evaluate on test data\n",
            "209/209 [==============================] - 18s 85ms/step - loss: 0.0623 - accuracy: 0.9378\n",
            "test loss, test acc: [0.06234278529882431, 0.9377990365028381]\n"
          ],
          "name": "stdout"
        }
      ]
    },
    {
      "cell_type": "code",
      "metadata": {
        "colab": {
          "base_uri": "https://localhost:8080/"
        },
        "id": "2wUeK57lnWP4",
        "outputId": "dbbd69b7-ec9b-4785-cb63-87117eeb70ac"
      },
      "source": [
        "# Try to make confusion matrix \n",
        "\n",
        "pred= model_ResNet50.predict(test_generator)\n",
        "predicted_class_indices=np.argmax(pred,axis=1)\n",
        "labels=(test_generator.class_indices)\n",
        "labels2=dict((v,k) for k,v in labels.items())\n",
        "predictions=[labels2[k] for k in predicted_class_indices]\n",
        "print(predicted_class_indices)\n",
        "print(labels)\n",
        "print(predictions)"
      ],
      "execution_count": 53,
      "outputs": [
        {
          "output_type": "stream",
          "text": [
            "[0 0 0 0 0 0 0 0 0 0 0 0 0 2 0 0 0 0 0 0 0 0 0 0 0 0 0 0 0 0 0 0 0 0 0 0 0\n",
            " 0 0 0 0 0 0 0 0 0 0 0 0 0 0 0 0 0 0 1 1 1 1 1 1 1 1 1 2 2 2 2 2 2 2 2 2 2\n",
            " 2 2 2 2 2 2 2 2 2 2 2 2 2 2 2 2 2 2 2 2 2 2 2 2 2 2 2 2 2 2 2 2 2 3 3 3 3\n",
            " 3 3 3 3 3 3 3 3 3 3 3 3 3 3 3 3 3 3 3 3 3 3 3 3 3 3 3 3 3 3 3 3 3 3 3 3 3\n",
            " 3 3 3 3 3 3 3 3 3 3 3 3 3 3 4 4 4 4 4 4 4 4 4 4 4 4 4 0 0 1 4 4 0 4 4 4 0\n",
            " 0 0 4 4 4 4 4 4 0 4 4 0 0 4 4 0 1 4 4 4 4 4 4 4]\n",
            "{'biomaterial': 0, 'bone_marrow': 1, 'bone_with_osteocytes': 2, 'bone_without_osteocytes': 3, 'tissue_fibrous': 4}\n",
            "['biomaterial', 'biomaterial', 'biomaterial', 'biomaterial', 'biomaterial', 'biomaterial', 'biomaterial', 'biomaterial', 'biomaterial', 'biomaterial', 'biomaterial', 'biomaterial', 'biomaterial', 'bone_with_osteocytes', 'biomaterial', 'biomaterial', 'biomaterial', 'biomaterial', 'biomaterial', 'biomaterial', 'biomaterial', 'biomaterial', 'biomaterial', 'biomaterial', 'biomaterial', 'biomaterial', 'biomaterial', 'biomaterial', 'biomaterial', 'biomaterial', 'biomaterial', 'biomaterial', 'biomaterial', 'biomaterial', 'biomaterial', 'biomaterial', 'biomaterial', 'biomaterial', 'biomaterial', 'biomaterial', 'biomaterial', 'biomaterial', 'biomaterial', 'biomaterial', 'biomaterial', 'biomaterial', 'biomaterial', 'biomaterial', 'biomaterial', 'biomaterial', 'biomaterial', 'biomaterial', 'biomaterial', 'biomaterial', 'biomaterial', 'bone_marrow', 'bone_marrow', 'bone_marrow', 'bone_marrow', 'bone_marrow', 'bone_marrow', 'bone_marrow', 'bone_marrow', 'bone_marrow', 'bone_with_osteocytes', 'bone_with_osteocytes', 'bone_with_osteocytes', 'bone_with_osteocytes', 'bone_with_osteocytes', 'bone_with_osteocytes', 'bone_with_osteocytes', 'bone_with_osteocytes', 'bone_with_osteocytes', 'bone_with_osteocytes', 'bone_with_osteocytes', 'bone_with_osteocytes', 'bone_with_osteocytes', 'bone_with_osteocytes', 'bone_with_osteocytes', 'bone_with_osteocytes', 'bone_with_osteocytes', 'bone_with_osteocytes', 'bone_with_osteocytes', 'bone_with_osteocytes', 'bone_with_osteocytes', 'bone_with_osteocytes', 'bone_with_osteocytes', 'bone_with_osteocytes', 'bone_with_osteocytes', 'bone_with_osteocytes', 'bone_with_osteocytes', 'bone_with_osteocytes', 'bone_with_osteocytes', 'bone_with_osteocytes', 'bone_with_osteocytes', 'bone_with_osteocytes', 'bone_with_osteocytes', 'bone_with_osteocytes', 'bone_with_osteocytes', 'bone_with_osteocytes', 'bone_with_osteocytes', 'bone_with_osteocytes', 'bone_with_osteocytes', 'bone_with_osteocytes', 'bone_with_osteocytes', 'bone_with_osteocytes', 'bone_with_osteocytes', 'bone_without_osteocytes', 'bone_without_osteocytes', 'bone_without_osteocytes', 'bone_without_osteocytes', 'bone_without_osteocytes', 'bone_without_osteocytes', 'bone_without_osteocytes', 'bone_without_osteocytes', 'bone_without_osteocytes', 'bone_without_osteocytes', 'bone_without_osteocytes', 'bone_without_osteocytes', 'bone_without_osteocytes', 'bone_without_osteocytes', 'bone_without_osteocytes', 'bone_without_osteocytes', 'bone_without_osteocytes', 'bone_without_osteocytes', 'bone_without_osteocytes', 'bone_without_osteocytes', 'bone_without_osteocytes', 'bone_without_osteocytes', 'bone_without_osteocytes', 'bone_without_osteocytes', 'bone_without_osteocytes', 'bone_without_osteocytes', 'bone_without_osteocytes', 'bone_without_osteocytes', 'bone_without_osteocytes', 'bone_without_osteocytes', 'bone_without_osteocytes', 'bone_without_osteocytes', 'bone_without_osteocytes', 'bone_without_osteocytes', 'bone_without_osteocytes', 'bone_without_osteocytes', 'bone_without_osteocytes', 'bone_without_osteocytes', 'bone_without_osteocytes', 'bone_without_osteocytes', 'bone_without_osteocytes', 'bone_without_osteocytes', 'bone_without_osteocytes', 'bone_without_osteocytes', 'bone_without_osteocytes', 'bone_without_osteocytes', 'bone_without_osteocytes', 'bone_without_osteocytes', 'bone_without_osteocytes', 'bone_without_osteocytes', 'bone_without_osteocytes', 'bone_without_osteocytes', 'bone_without_osteocytes', 'bone_without_osteocytes', 'bone_without_osteocytes', 'tissue_fibrous', 'tissue_fibrous', 'tissue_fibrous', 'tissue_fibrous', 'tissue_fibrous', 'tissue_fibrous', 'tissue_fibrous', 'tissue_fibrous', 'tissue_fibrous', 'tissue_fibrous', 'tissue_fibrous', 'tissue_fibrous', 'tissue_fibrous', 'biomaterial', 'biomaterial', 'bone_marrow', 'tissue_fibrous', 'tissue_fibrous', 'biomaterial', 'tissue_fibrous', 'tissue_fibrous', 'tissue_fibrous', 'biomaterial', 'biomaterial', 'biomaterial', 'tissue_fibrous', 'tissue_fibrous', 'tissue_fibrous', 'tissue_fibrous', 'tissue_fibrous', 'tissue_fibrous', 'biomaterial', 'tissue_fibrous', 'tissue_fibrous', 'biomaterial', 'biomaterial', 'tissue_fibrous', 'tissue_fibrous', 'biomaterial', 'bone_marrow', 'tissue_fibrous', 'tissue_fibrous', 'tissue_fibrous', 'tissue_fibrous', 'tissue_fibrous', 'tissue_fibrous', 'tissue_fibrous']\n"
          ],
          "name": "stdout"
        }
      ]
    },
    {
      "cell_type": "code",
      "metadata": {
        "colab": {
          "base_uri": "https://localhost:8080/"
        },
        "id": "I14KgJRSncMc",
        "outputId": "fa2487e9-845a-4594-c7a3-84de39a93f1b"
      },
      "source": [
        "predictions = model_ResNet50.predict(test_generator, verbose=1)\n",
        "# Get most likely class\n",
        "predicted_classes = np.argmax(predictions, axis=1)\n",
        "print(predictions)\n",
        "print(predicted_classes )"
      ],
      "execution_count": 41,
      "outputs": [
        {
          "output_type": "stream",
          "text": [
            "209/209 [==============================] - 16s 77ms/step\n",
            "[[9.9999976e-01 7.2652057e-08 5.4412190e-09 1.0423098e-07 4.8406676e-08]\n",
            " [9.9999988e-01 5.4196470e-08 9.3566115e-09 5.7540081e-08 4.9255892e-08]\n",
            " [9.9997830e-01 3.9593110e-06 5.4252964e-06 1.5770499e-06 1.0735205e-05]\n",
            " ...\n",
            " [3.7979567e-11 7.3569031e-09 3.5278423e-12 4.3075252e-11 1.0000000e+00]\n",
            " [2.5552038e-07 5.3884719e-07 5.7462870e-07 1.5306159e-07 9.9999845e-01]\n",
            " [4.7224447e-09 6.6915152e-07 1.7563590e-08 1.8260458e-08 9.9999928e-01]]\n",
            "[0 0 0 0 0 0 0 0 0 0 0 0 0 2 0 0 0 0 0 0 0 0 0 0 0 0 0 0 0 0 0 0 0 0 0 0 0\n",
            " 0 0 0 0 0 0 0 0 0 0 0 0 0 0 0 0 0 0 1 1 1 1 1 1 1 1 1 2 2 2 2 2 2 2 2 2 2\n",
            " 2 2 2 2 2 2 2 2 2 2 2 2 2 2 2 2 2 2 2 2 2 2 2 2 2 2 2 2 2 2 2 2 2 3 3 3 3\n",
            " 3 3 3 3 3 3 3 3 3 3 3 3 3 3 3 3 3 3 3 3 3 3 3 3 3 3 3 3 3 3 3 3 3 3 3 3 3\n",
            " 3 3 3 3 3 3 3 3 3 3 3 3 3 3 4 4 4 4 4 4 4 4 4 4 4 4 4 0 0 1 4 4 0 4 4 4 0\n",
            " 0 0 4 4 4 4 4 4 0 4 4 0 0 4 4 0 1 4 4 4 4 4 4 4]\n"
          ],
          "name": "stdout"
        }
      ]
    },
    {
      "cell_type": "code",
      "metadata": {
        "colab": {
          "base_uri": "https://localhost:8080/"
        },
        "id": "fQTVBZ8mnmJl",
        "outputId": "b698fd56-ba3e-401f-dffa-c686af4172f1"
      },
      "source": [
        "# Get ground-truth classes and class-labels\n",
        "true_classes = test_generator.classes\n",
        "print(true_classes)\n",
        "class_labels = list(test_generator.class_indices.keys())  "
      ],
      "execution_count": 54,
      "outputs": [
        {
          "output_type": "stream",
          "text": [
            "[0 0 0 0 0 0 0 0 0 0 0 0 0 0 0 0 0 0 0 0 0 0 0 0 0 0 0 0 0 0 0 0 0 0 0 0 0\n",
            " 0 0 0 0 0 0 0 0 0 0 0 0 0 0 0 0 0 0 1 1 1 1 1 1 1 1 1 2 2 2 2 2 2 2 2 2 2\n",
            " 2 2 2 2 2 2 2 2 2 2 2 2 2 2 2 2 2 2 2 2 2 2 2 2 2 2 2 2 2 2 2 2 2 3 3 3 3\n",
            " 3 3 3 3 3 3 3 3 3 3 3 3 3 3 3 3 3 3 3 3 3 3 3 3 3 3 3 3 3 3 3 3 3 3 3 3 3\n",
            " 3 3 3 3 3 3 3 3 3 3 3 3 3 3 4 4 4 4 4 4 4 4 4 4 4 4 4 4 4 4 4 4 4 4 4 4 4\n",
            " 4 4 4 4 4 4 4 4 4 4 4 4 4 4 4 4 4 4 4 4 4 4 4 4]\n"
          ],
          "name": "stdout"
        }
      ]
    },
    {
      "cell_type": "code",
      "metadata": {
        "colab": {
          "base_uri": "https://localhost:8080/"
        },
        "id": "QLXd1vZ-nniO",
        "outputId": "9c93fc3b-ae63-4df6-806d-7dacb3f7d7ca"
      },
      "source": [
        "from sklearn.metrics import classification_report\n",
        "from sklearn.metrics import confusion_matrix\n",
        "report = classification_report(true_classes, predicted_class_indices, target_names=class_labels)\n",
        "print(report)  \n",
        "    "
      ],
      "execution_count": 55,
      "outputs": [
        {
          "output_type": "stream",
          "text": [
            "                         precision    recall  f1-score   support\n",
            "\n",
            "            biomaterial       0.84      0.98      0.91        55\n",
            "            bone_marrow       0.82      1.00      0.90         9\n",
            "   bone_with_osteocytes       0.98      1.00      0.99        43\n",
            "bone_without_osteocytes       1.00      1.00      1.00        55\n",
            "         tissue_fibrous       1.00      0.74      0.85        47\n",
            "\n",
            "               accuracy                           0.94       209\n",
            "              macro avg       0.93      0.95      0.93       209\n",
            "           weighted avg       0.95      0.94      0.94       209\n",
            "\n"
          ],
          "name": "stdout"
        }
      ]
    },
    {
      "cell_type": "code",
      "metadata": {
        "colab": {
          "base_uri": "https://localhost:8080/"
        },
        "id": "HegU-0M0nuZD",
        "outputId": "cbcf1c0a-d3e7-4937-fdd3-b09531d7625e"
      },
      "source": [
        "#Y_pred = model_VGG16.predict_generator(test_generator)\n",
        "#y_pred = np.argmax(Y_pred, axis=1)\n",
        "\n",
        "print('Confusion Matrix')\n",
        "cf_matrix = confusion_matrix(true_classes, predicted_class_indices)\n",
        "print(cf_matrix)"
      ],
      "execution_count": 56,
      "outputs": [
        {
          "output_type": "stream",
          "text": [
            "Confusion Matrix\n",
            "[[54  0  1  0  0]\n",
            " [ 0  9  0  0  0]\n",
            " [ 0  0 43  0  0]\n",
            " [ 0  0  0 55  0]\n",
            " [10  2  0  0 35]]\n"
          ],
          "name": "stdout"
        }
      ]
    },
    {
      "cell_type": "code",
      "metadata": {
        "id": "agpAGggjz7na"
      },
      "source": [
        "# reference: stackoverflow \n",
        "# https://stackoverflow.com/a/50386871\n",
        "\n",
        "import numpy as np\n",
        "import matplotlib.pyplot as plt\n",
        "import seaborn as sns\n",
        "\n",
        "def make_confusion_matrix(cf,\n",
        "                          group_names=None,\n",
        "                          categories='auto',\n",
        "                          count=True,\n",
        "                          percent=True,\n",
        "                          cbar=True,\n",
        "                          xyticks=True,\n",
        "                          xyplotlabels=True,\n",
        "                          sum_stats=True,\n",
        "                          figsize=None,\n",
        "                          cmap='Blues',\n",
        "                          title=None):\n",
        "    '''\n",
        "    This function will make a pretty plot of an sklearn Confusion Matrix cm using a Seaborn heatmap visualization.\n",
        "    Arguments\n",
        "    ---------\n",
        "    cf:            confusion matrix to be passed in\n",
        "    group_names:   List of strings that represent the labels row by row to be shown in each square.\n",
        "    categories:    List of strings containing the categories to be displayed on the x,y axis. Default is 'auto'\n",
        "    count:         If True, show the raw number in the confusion matrix. Default is True.\n",
        "    normalize:     If True, show the proportions for each category. Default is True.\n",
        "    cbar:          If True, show the color bar. The cbar values are based off the values in the confusion matrix.\n",
        "                   Default is True.\n",
        "    xyticks:       If True, show x and y ticks. Default is True.\n",
        "    xyplotlabels:  If True, show 'True Label' and 'Predicted Label' on the figure. Default is True.\n",
        "    sum_stats:     If True, display summary statistics below the figure. Default is True.\n",
        "    figsize:       Tuple representing the figure size. Default will be the matplotlib rcParams value.\n",
        "    cmap:          Colormap of the values displayed from matplotlib.pyplot.cm. Default is 'Blues'\n",
        "                   See http://matplotlib.org/examples/color/colormaps_reference.html\n",
        "                   \n",
        "    title:         Title for the heatmap. Default is None.\n",
        "    '''\n",
        "\n",
        "\n",
        "    # CODE TO GENERATE TEXT INSIDE EACH SQUARE\n",
        "    blanks = ['' for i in range(cf.size)]\n",
        "\n",
        "    if group_names and len(group_names)==cf.size:\n",
        "        group_labels = [\"{}\\n\".format(value) for value in group_names]\n",
        "    else:\n",
        "        group_labels = blanks\n",
        "\n",
        "    if count:\n",
        "        group_counts = [\"{0:0.0f}\\n\".format(value) for value in cf.flatten()]\n",
        "    else:\n",
        "        group_counts = blanks\n",
        "\n",
        "    if percent:\n",
        "        group_percentages = [\"{0:.2%}\".format(value) for value in cf.flatten()/np.sum(cf)]\n",
        "    else:\n",
        "        group_percentages = blanks\n",
        "\n",
        "    box_labels = [f\"{v1}{v2}{v3}\".strip() for v1, v2, v3 in zip(group_labels,group_counts,group_percentages)]\n",
        "    box_labels = np.asarray(box_labels).reshape(cf.shape[0],cf.shape[1])\n",
        "\n",
        "\n",
        "    # CODE TO GENERATE SUMMARY STATISTICS & TEXT FOR SUMMARY STATS\n",
        "    if sum_stats:\n",
        "        #Accuracy is sum of diagonal divided by total observations\n",
        "        accuracy  = np.trace(cf) / float(np.sum(cf))\n",
        "\n",
        "        #if it is a binary confusion matrix, show some more stats\n",
        "        if len(cf)==2:\n",
        "            #Metrics for Binary Confusion Matrices\n",
        "            precision = cf[1,1] / sum(cf[:,1])\n",
        "            recall    = cf[1,1] / sum(cf[1,:])\n",
        "            f1_score  = 2*precision*recall / (precision + recall)\n",
        "            stats_text = \"\\n\\nAccuracy={:0.3f}\\nPrecision={:0.3f}\\nRecall={:0.3f}\\nF1 Score={:0.3f}\".format(\n",
        "                accuracy,precision,recall,f1_score)\n",
        "        else:\n",
        "            stats_text = \"\\n\\nAccuracy={:0.3f}\".format(accuracy)\n",
        "    else:\n",
        "        stats_text = \"\"\n",
        "\n",
        "\n",
        "    # SET FIGURE PARAMETERS ACCORDING TO OTHER ARGUMENTS\n",
        "    if figsize==None:\n",
        "        #Get default figure size if not set\n",
        "        figsize = plt.rcParams.get('figure.figsize')\n",
        "\n",
        "    if xyticks==False:\n",
        "        #Do not show categories if xyticks is False\n",
        "        categories=False\n",
        "\n",
        "\n",
        "    # MAKE THE HEATMAP VISUALIZATION\n",
        "    plt.figure(figsize=figsize)\n",
        "    sns.heatmap(cf,annot=box_labels,fmt=\"\",cmap=cmap,cbar=cbar,xticklabels=categories,yticklabels=categories)\n",
        "\n",
        "    if xyplotlabels:\n",
        "        plt.ylabel('True label')\n",
        "        plt.xlabel('Predicted label' + stats_text)\n",
        "    else:\n",
        "        plt.xlabel(stats_text)\n",
        "    \n",
        "    if title:\n",
        "        plt.title(title)"
      ],
      "execution_count": 45,
      "outputs": []
    },
    {
      "cell_type": "code",
      "metadata": {
        "id": "ez1RYF1ezKcM",
        "colab": {
          "base_uri": "https://localhost:8080/",
          "height": 419
        },
        "outputId": "41e8fba5-567f-43e4-dc74-276ffcb8c783"
      },
      "source": [
        "labels = ['True Neg','False Pos','False Neg','True Pos']\n",
        "categories = ['biomaterial', 'bone_marrow', 'bone_with_osteocytes', 'bone_without_osteocytes', 'tissue_fibrous']\n",
        "make_confusion_matrix(cf_matrix, \n",
        "                      group_names=labels,\n",
        "                      categories=categories, \n",
        "                      cmap='binary')\n"
      ],
      "execution_count": 46,
      "outputs": [
        {
          "output_type": "display_data",
          "data": {
            "image/png": "[encoded data removed]",
            "text/plain": [
              "<Figure size 432x288 with 2 Axes>"
            ]
          },
          "metadata": {
            "needs_background": "light"
          }
        }
      ]
    },
    {
      "cell_type": "code",
      "metadata": {
        "id": "_hH5Q_DN96FO"
      },
      "source": [
        "from keras.preprocessing.image import ImageDataGenerator, load_img\n",
        "\n",
        "def predict_image(filename):\n",
        "    img = load_img(filename, target_size=(224, 224))\n",
        "    image = keras.preprocessing.image.img_to_array(img)\n",
        "    image = image / 255.0\n",
        "    image = image.reshape(1,224,224,3)\n",
        "    model = tf.keras.models.load_model('custom_model1.h5py')\n",
        "    prediction = model.predict(image)\n",
        "    print(prediction)\n",
        "    plt.imshow(img)\n",
        "\n",
        "    biomaterial_stat = prediction[0][0] * 100\n",
        "    bonemarrow_stat = prediction[0][1] * 100\n",
        "    bone_with_osteocytes_stat = prediction[0][2] * 100\n",
        "    bone_without_osteocytes_stat = prediction[0][3] * 100\n",
        "    tissue_fibrous_stat = prediction[0][4] * 100\n",
        "    print(\"This image is %.2f percent %s\"% (biomaterial_stat, \"biomaterial\\n\"), \n",
        "          \"This image is %.2f percent %s\"% (bonemarrow_stat, \"bone marrow\\n\"),\n",
        "          \"This image is %.2f percent %s\"% (bone_with_osteocytes_stat, \"bone_with_osteocytes\\n\"),\n",
        "          \"This image is %.2f percent %s\"% (bone_without_osteocytes_stat, \"bone_without_osteocytes\\n\"), \n",
        "          \"This image is %.2f percent %s\"% (tissue_fibrous_stat, \"tissue_fibrous\"))\n",
        "   \n"
      ],
      "execution_count": 47,
      "outputs": []
    },
    {
      "cell_type": "code",
      "metadata": {
        "colab": {
          "base_uri": "https://localhost:8080/",
          "height": 373
        },
        "id": "Jt28bRXlokRK",
        "outputId": "d7bfa3bb-a7c9-4ddb-df4b-0b70349952d4"
      },
      "source": [
        "predict_image(\"/content/Bone_parts/test/biomaterial/1-8 1.tif\")\n"
      ],
      "execution_count": 48,
      "outputs": [
        {
          "output_type": "stream",
          "text": [
            "[[0.16581412 0.10694274 0.07672755 0.4919713  0.1585443 ]]\n",
            "This image is 16.58 percent biomaterial\n",
            " This image is 10.69 percent bone marrow\n",
            " This image is 7.67 percent bone_with_osteocytes\n",
            " This image is 49.20 percent bone_without_osteocytes\n",
            " This image is 15.85 percent tissue_fibrous\n"
          ],
          "name": "stdout"
        },
        {
          "output_type": "display_data",
          "data": {
            "image/png": "[encoded data removed]",
            "text/plain": [
              "<Figure size 432x288 with 1 Axes>"
            ]
          },
          "metadata": {
            "needs_background": "light"
          }
        }
      ]
    },
    {
      "cell_type": "code",
      "metadata": {
        "colab": {
          "base_uri": "https://localhost:8080/",
          "height": 329
        },
        "id": "j5eCbDbDp9vP",
        "outputId": "02c9425f-2ff7-4f40-8cdf-2f4e8eef67d6"
      },
      "source": [
        "predict_image(\"/content/Image_full_sized.jpg\")"
      ],
      "execution_count": 49,
      "outputs": [
        {
          "output_type": "error",
          "ename": "FileNotFoundError",
          "evalue": "ignored",
          "traceback": [
            "\u001b[0;31m---------------------------------------------------------------------------\u001b[0m",
            "\u001b[0;31mFileNotFoundError\u001b[0m                         Traceback (most recent call last)",
            "\u001b[0;32m<ipython-input-49-fe5dfa8d3a71>\u001b[0m in \u001b[0;36m<module>\u001b[0;34m()\u001b[0m\n\u001b[0;32m----> 1\u001b[0;31m \u001b[0mpredict_image\u001b[0m\u001b[0;34m(\u001b[0m\u001b[0;34m\"/content/Image_full_sized.jpg\"\u001b[0m\u001b[0;34m)\u001b[0m\u001b[0;34m\u001b[0m\u001b[0;34m\u001b[0m\u001b[0m\n\u001b[0m",
            "\u001b[0;32m<ipython-input-47-cbb24682410e>\u001b[0m in \u001b[0;36mpredict_image\u001b[0;34m(filename)\u001b[0m\n\u001b[1;32m      2\u001b[0m \u001b[0;34m\u001b[0m\u001b[0m\n\u001b[1;32m      3\u001b[0m \u001b[0;32mdef\u001b[0m \u001b[0mpredict_image\u001b[0m\u001b[0;34m(\u001b[0m\u001b[0mfilename\u001b[0m\u001b[0;34m)\u001b[0m\u001b[0;34m:\u001b[0m\u001b[0;34m\u001b[0m\u001b[0;34m\u001b[0m\u001b[0m\n\u001b[0;32m----> 4\u001b[0;31m     \u001b[0mimg\u001b[0m \u001b[0;34m=\u001b[0m \u001b[0mload_img\u001b[0m\u001b[0;34m(\u001b[0m\u001b[0mfilename\u001b[0m\u001b[0;34m,\u001b[0m \u001b[0mtarget_size\u001b[0m\u001b[0;34m=\u001b[0m\u001b[0;34m(\u001b[0m\u001b[0;36m224\u001b[0m\u001b[0;34m,\u001b[0m \u001b[0;36m224\u001b[0m\u001b[0;34m)\u001b[0m\u001b[0;34m)\u001b[0m\u001b[0;34m\u001b[0m\u001b[0;34m\u001b[0m\u001b[0m\n\u001b[0m\u001b[1;32m      5\u001b[0m     \u001b[0mimage\u001b[0m \u001b[0;34m=\u001b[0m \u001b[0mkeras\u001b[0m\u001b[0;34m.\u001b[0m\u001b[0mpreprocessing\u001b[0m\u001b[0;34m.\u001b[0m\u001b[0mimage\u001b[0m\u001b[0;34m.\u001b[0m\u001b[0mimg_to_array\u001b[0m\u001b[0;34m(\u001b[0m\u001b[0mimg\u001b[0m\u001b[0;34m)\u001b[0m\u001b[0;34m\u001b[0m\u001b[0;34m\u001b[0m\u001b[0m\n\u001b[1;32m      6\u001b[0m     \u001b[0mimage\u001b[0m \u001b[0;34m=\u001b[0m \u001b[0mimage\u001b[0m \u001b[0;34m/\u001b[0m \u001b[0;36m255.0\u001b[0m\u001b[0;34m\u001b[0m\u001b[0;34m\u001b[0m\u001b[0m\n",
            "\u001b[0;32m/usr/local/lib/python3.7/dist-packages/keras/preprocessing/image.py\u001b[0m in \u001b[0;36mload_img\u001b[0;34m(path, grayscale, color_mode, target_size, interpolation)\u001b[0m\n\u001b[1;32m    312\u001b[0m   \"\"\"\n\u001b[1;32m    313\u001b[0m   return image.load_img(path, grayscale=grayscale, color_mode=color_mode,\n\u001b[0;32m--> 314\u001b[0;31m                         target_size=target_size, interpolation=interpolation)\n\u001b[0m\u001b[1;32m    315\u001b[0m \u001b[0;34m\u001b[0m\u001b[0m\n\u001b[1;32m    316\u001b[0m \u001b[0;34m\u001b[0m\u001b[0m\n",
            "\u001b[0;32m/usr/local/lib/python3.7/dist-packages/keras_preprocessing/image/utils.py\u001b[0m in \u001b[0;36mload_img\u001b[0;34m(path, grayscale, color_mode, target_size, interpolation)\u001b[0m\n\u001b[1;32m    111\u001b[0m         raise ImportError('Could not import PIL.Image. '\n\u001b[1;32m    112\u001b[0m                           'The use of `load_img` requires PIL.')\n\u001b[0;32m--> 113\u001b[0;31m     \u001b[0;32mwith\u001b[0m \u001b[0mopen\u001b[0m\u001b[0;34m(\u001b[0m\u001b[0mpath\u001b[0m\u001b[0;34m,\u001b[0m \u001b[0;34m'rb'\u001b[0m\u001b[0;34m)\u001b[0m \u001b[0;32mas\u001b[0m \u001b[0mf\u001b[0m\u001b[0;34m:\u001b[0m\u001b[0;34m\u001b[0m\u001b[0;34m\u001b[0m\u001b[0m\n\u001b[0m\u001b[1;32m    114\u001b[0m         \u001b[0mimg\u001b[0m \u001b[0;34m=\u001b[0m \u001b[0mpil_image\u001b[0m\u001b[0;34m.\u001b[0m\u001b[0mopen\u001b[0m\u001b[0;34m(\u001b[0m\u001b[0mio\u001b[0m\u001b[0;34m.\u001b[0m\u001b[0mBytesIO\u001b[0m\u001b[0;34m(\u001b[0m\u001b[0mf\u001b[0m\u001b[0;34m.\u001b[0m\u001b[0mread\u001b[0m\u001b[0;34m(\u001b[0m\u001b[0;34m)\u001b[0m\u001b[0;34m)\u001b[0m\u001b[0;34m)\u001b[0m\u001b[0;34m\u001b[0m\u001b[0;34m\u001b[0m\u001b[0m\n\u001b[1;32m    115\u001b[0m         \u001b[0;32mif\u001b[0m \u001b[0mcolor_mode\u001b[0m \u001b[0;34m==\u001b[0m \u001b[0;34m'grayscale'\u001b[0m\u001b[0;34m:\u001b[0m\u001b[0;34m\u001b[0m\u001b[0;34m\u001b[0m\u001b[0m\n",
            "\u001b[0;31mFileNotFoundError\u001b[0m: [Errno 2] No such file or directory: '/content/Image_full_sized.jpg'"
          ]
        }
      ]
    },
    {
      "cell_type": "code",
      "metadata": {
        "id": "K_Cqbq6fp93g"
      },
      "source": [
        "predict_image(\"/content/image_full_sized4.jpg\")"
      ],
      "execution_count": null,
      "outputs": []
    }
  ]
}